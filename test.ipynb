{
 "cells": [
  {
   "cell_type": "code",
   "execution_count": 1,
   "metadata": {},
   "outputs": [],
   "source": [
    "from mylib.lib import (\n",
    "    load_and_preprocess,\n",
    "    process_mean,\n",
    "    process_median,\n",
    "    process_std,\n",
    "    build_chart,\n",
    "    rolling_average,\n",
    ")\n",
    "\n",
    "example_csv = \"stocks.csv\""
   ]
  },
  {
   "cell_type": "code",
   "execution_count": null,
   "metadata": {},
   "outputs": [],
   "source": [
    "general_df = load_and_preprocess(example_csv)\n",
    "assert general_df is not None\n",
    "assert general_df.shape == (252, 15)\n",
    "general_df.head()"
   ]
  },
  {
   "cell_type": "code",
   "execution_count": null,
   "metadata": {},
   "outputs": [],
   "source": [
    "mean_test = process_mean(general_df, \"XOM\")\n",
    "median_test = process_median(general_df, \"XOM\")\n",
    "std_test = process_std(general_df, \"XOM\")\n",
    "describe_test = general_df.describe()\n",
    "assert describe_test.loc[\"mean\", \"XOM\"] == mean_test\n",
    "assert describe_test.loc[\"std\", \"XOM\"] == std_test"
   ]
  },
  {
   "cell_type": "code",
   "execution_count": null,
   "metadata": {},
   "outputs": [],
   "source": [
    "build_chart(general_df, True)"
   ]
  },
  {
   "cell_type": "code",
   "execution_count": null,
   "metadata": {},
   "outputs": [],
   "source": [
    "rolling_average(general_df, True)"
   ]
  }
 ],
 "metadata": {
  "kernelspec": {
   "display_name": "base",
   "language": "python",
   "name": "python3"
  },
  "language_info": {
   "codemirror_mode": {
    "name": "ipython",
    "version": 3
   },
   "file_extension": ".py",
   "mimetype": "text/x-python",
   "name": "python",
   "nbconvert_exporter": "python",
   "pygments_lexer": "ipython3",
   "version": "3.12.5"
  }
 },
 "nbformat": 4,
 "nbformat_minor": 2
}
